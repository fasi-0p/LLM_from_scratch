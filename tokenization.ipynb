{
 "cells": [
  {
   "cell_type": "code",
   "execution_count": 29,
   "id": "ae40f38a",
   "metadata": {},
   "outputs": [
    {
     "name": "stdout",
     "output_type": "stream",
     "text": [
      "4025528\n"
     ]
    }
   ],
   "source": [
    "import os\n",
    "text_sequence_list=[]\n",
    "with open('preprocessed_texts.txt','r') as f:\n",
    "    for line in f:\n",
    "        text_sequence_list.append(line)\n",
    "    text_sequence=\"\".join(text_sequence_list)\n",
    "\n",
    "print(len(text_sequence))"
   ]
  },
  {
   "cell_type": "code",
   "execution_count": 30,
   "id": "171e720c",
   "metadata": {},
   "outputs": [],
   "source": [
    "from minbpe import BasicTokenizer  #had to download minbpe from github, pip install tiktoken\n",
    "\n",
    "tokenizer= BasicTokenizer()\n",
    "tokenizer.train(text_sequence, vocab_size=1024)"
   ]
  },
  {
   "cell_type": "code",
   "execution_count": 42,
   "id": "54844298",
   "metadata": {},
   "outputs": [],
   "source": [
    "#len(tokenizer.encode(text_sequence)) #100k tokens\n",
    "tokenizer.encode(text_sequence)\n",
    "tokenizer.save(file_prefix=os.getcwd())"
   ]
  }
 ],
 "metadata": {
  "kernelspec": {
   "display_name": "base",
   "language": "python",
   "name": "python3"
  },
  "language_info": {
   "codemirror_mode": {
    "name": "ipython",
    "version": 3
   },
   "file_extension": ".py",
   "mimetype": "text/x-python",
   "name": "python",
   "nbconvert_exporter": "python",
   "pygments_lexer": "ipython3",
   "version": "3.12.7"
  }
 },
 "nbformat": 4,
 "nbformat_minor": 5
}
