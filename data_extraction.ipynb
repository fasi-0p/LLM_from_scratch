{
 "cells": [
  {
   "cell_type": "code",
   "execution_count": 54,
   "id": "970f7dc5",
   "metadata": {},
   "outputs": [],
   "source": [
    "import re\n",
    "import os\n",
    "\n",
    "def read_whatsapp_chat(file_path: str):\n",
    "    encryption_message = \"Messages and calls are end-to-end encrypted. No one outside of this chat, not even WhatsApp, can read or listen to them.\"\n",
    "\n",
    "    media_pattern = r\"<Media omitted>\"\n",
    "    email_pattern = r'[a-zA-Z0-9_.+-]+@[a-zA-Z0-9-]+\\.[a-zA-Z0-9-.]+'\n",
    "    url_pattern = r'(https?://\\S+|www\\.\\S+)'\n",
    "    edited_message = r\"This message was edited\"\n",
    "    deleted_message = r\"This message was deleted\"\n",
    "    null_message = r\"null\"\n",
    "    created_group_message = r\"created group\"\n",
    "    added_you_to_group_message = r\"added you\"\n",
    "    tagging_pattern = r\"@[\\w]+\"  # Example: @username\n",
    "\n",
    "    with open(file_path, 'r', encoding='utf-8') as f:\n",
    "        lines=f.readlines()\n",
    "\n",
    "    filtered_lines=[]\n",
    "    for line in lines:  \n",
    "        if(encryption_message not in line and \n",
    "        email_pattern not in line and\n",
    "        url_pattern not in line and \n",
    "        edited_message not in line and \n",
    "        deleted_message not in line and\n",
    "        null_message not in line and\n",
    "        created_group_message not in line and \n",
    "        added_you_to_group_message not in line and \n",
    "        tagging_pattern not in line):\n",
    "            filtered_lines.append(line)\n",
    "\n",
    "    with open(\"preprocessed_texts.txt\", \"w\") as f:\n",
    "        for line in filtered_lines:\n",
    "            line = re.sub(r'.*?(?=AB_naughty|Fasi\\*)', '', line)\n",
    "            f.write(line +\"\\n\")"
   ]
  },
  {
   "cell_type": "code",
   "execution_count": 55,
   "id": "77d29d9c",
   "metadata": {},
   "outputs": [],
   "source": [
    "dir=r'C:\\Users\\FASI OWAIZ AHMED\\Desktop\\VS Code\\llm\\whatsapp_chat.txt'\n",
    "os.path.exists(dir)\n",
    "read_whatsapp_chat(dir)"
   ]
  },
  {
   "cell_type": "code",
   "execution_count": null,
   "id": "36da6474",
   "metadata": {},
   "outputs": [
    {
     "data": {
      "text/plain": [
       "'c:\\\\Users\\\\FASI OWAIZ AHMED\\\\Desktop\\\\VS Code\\\\llm'"
      ]
     },
     "execution_count": 56,
     "metadata": {},
     "output_type": "execute_result"
    }
   ],
   "source": [
    "os.getcwd()"
   ]
  }
 ],
 "metadata": {
  "kernelspec": {
   "display_name": "base",
   "language": "python",
   "name": "python3"
  },
  "language_info": {
   "codemirror_mode": {
    "name": "ipython",
    "version": 3
   },
   "file_extension": ".py",
   "mimetype": "text/x-python",
   "name": "python",
   "nbconvert_exporter": "python",
   "pygments_lexer": "ipython3",
   "version": "3.12.7"
  }
 },
 "nbformat": 4,
 "nbformat_minor": 5
}
